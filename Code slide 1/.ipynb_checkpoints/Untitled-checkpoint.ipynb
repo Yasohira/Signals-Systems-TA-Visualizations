{
 "cells": [
  {
   "cell_type": "code",
   "execution_count": 167,
   "metadata": {},
   "outputs": [
    {
     "data": {
      "text/plain": [
       "<matplotlib.offsetbox.AnchoredText at 0x19b6a397710>"
      ]
     },
     "execution_count": 167,
     "metadata": {},
     "output_type": "execute_result"
    },
    {
     "data": {
      "image/png": "[encoded data removed]",
      "text/plain": [
       "<Figure size 576x432 with 1 Axes>"
      ]
     },
     "metadata": {
      "needs_background": "light"
     },
     "output_type": "display_data"
    }
   ],
   "source": [
    "import numpy as np\n",
    "import math\n",
    "import matplotlib.pyplot as plt\n",
    "from matplotlib.animation import FFMpegWriter\n",
    "from matplotlib.offsetbox import AnchoredText\n",
    "\n",
    "# Set the path to where ffmpeg.exe can be found\n",
    "plt.rcParams['animation.ffmpeg_path'] = 'C:\\\\Users\\\\20192214\\\\OneDrive\\\\Documenten\\\\ShareX\\\\Tools\\\\ffmpeg.exe'\n",
    "\n",
    "# Just some metadata\n",
    "metadata = dict(title='Animation Test', artist='A.K.')\n",
    "# Important: fps is defined here\n",
    "writer = FFMpegWriter(fps=24, metadata=metadata)\n",
    "\n",
    "\n",
    "# The function that is plotted every frame\n",
    "def func(xrange, A):\n",
    "    returnable = np.sin(xrange) * A + xrange*xrange * (1 - A)\n",
    "    return returnable\n",
    "\n",
    "#function for smoothing\n",
    "def smoothing(current, end, stepsize, steptime):\n",
    "    result = []\n",
    "    result.append(current)\n",
    "    timefreq = int(stepsize * steptime)\n",
    "    for time in range(1, timefreq):\n",
    "        result.append(\n",
    "            current + (end - current) *\n",
    "            (10.0 * (time/timefreq)**3\n",
    "            - 15.0 * (time/timefreq)**4\n",
    "            + 6.0 * (time/timefreq)**5))\n",
    "    result.append(end)\n",
    "    return result\n",
    "\n",
    "# Set up the figure\n",
    "# Figsize as (x, y), real size of the graph independent of values in it\n",
    "fig = plt.figure(figsize=(8, 6))\n",
    "ax = fig.gca()\n",
    "\n",
    "# The range of x values for which an y value will be calculated (using func)\n",
    "# Second parameter +stepsize because end is exclusive, start is inclusive\n",
    "\n",
    "pi = math.pi\n",
    "\n",
    "\n",
    "# Set up line\n",
    "# Third parameter defines line color and type (for example: dashed)\n",
    "# https://matplotlib.org/2.1.2/api/_as_gen/matplotlib.pyplot.plot.html\n",
    "line1, = plt.plot([], [], 'b-',  linewidth=3)\n",
    "\n",
    "plt.title('Sin wave with varying period')\n",
    "plt.xlabel('t (s)')\n",
    "plt.ylabel('s (m)')\n",
    "\n",
    "# Set limits of x-axis equal to xrange\n",
    "plt.xlim(xrange[0], xrange[-1])\n",
    "# Set limits of y-axis manually\n",
    "plt.ylim(-2, 2)\n",
    "\n",
    "\n",
    "## TWO OPTIONS FOR GRID BELOW, IF 2 IS LEFT UNCOMMENTED THEN IT GETS PRIORITY\n",
    "# 1] Auto-generate a grid\n",
    "#plt.grid()\n",
    "\n",
    "#set ranges\n",
    "stepsize_x = 0.05 #defines granularity\n",
    "xrange = np.arange(-pi*2, pi*2, stepsize_x)\n",
    "ydata=func(xrange, 1)\n",
    "line1.set_data(xrange, ydata)\n",
    "              \n",
    "\n",
    "# 2] Manually set a grid, gridline at every value in set_xticks() and set_yticks()\n",
    "plt.xticks([-2*pi, -pi, 0, pi, 2*pi], ['-2π', '-π', '0', 'π', '2π'])\n",
    "plt.yticks(np.arange(-2., 2., 1))\n",
    "plt.grid()\n",
    "\n",
    "\n",
    "# Create the label to indicate current value (updated every frame in loop below)\n",
    "at = AnchoredText(\"Placeholder text\", prop=dict(size=15), frameon=True, loc='upper left')\n",
    "at.patch.set_boxstyle(\"round,pad=0.,rounding_size=0.2\")\n",
    "ax.add_artist(at)\n",
    "\n"
   ]
  },
  {
   "cell_type": "code",
   "execution_count": 168,
   "metadata": {},
   "outputs": [],
   "source": [
    "# Easing array\n",
    "stepsize_A = 0.01\n",
    "current = 0.0\n",
    "frequency = 1\n",
    "end = 1.0\n",
    "time = (end - current) * 2\n",
    "    \n",
    "#create lookup array for smoothing the animation\n",
    "lookup = smoothing(current, end, 40, time)"
   ]
  },
  {
   "cell_type": "code",
   "execution_count": 164,
   "metadata": {},
   "outputs": [
    {
     "data": {
      "text/plain": [
       "(81, 0.0, 1.0)"
      ]
     },
     "execution_count": 164,
     "metadata": {},
     "output_type": "execute_result"
    }
   ],
   "source": [
    "len(lookup), lookup[0], lookup[len(lookup)-1]"
   ]
  },
  {
   "cell_type": "code",
   "execution_count": 108,
   "metadata": {},
   "outputs": [
    {
     "data": {
      "text/plain": [
       "241"
      ]
     },
     "execution_count": 108,
     "metadata": {},
     "output_type": "execute_result"
    }
   ],
   "source": []
  },
  {
   "cell_type": "code",
   "execution_count": 170,
   "metadata": {},
   "outputs": [
    {
     "data": {
      "text/plain": [
       "<Figure size 432x288 with 0 Axes>"
      ]
     },
     "metadata": {},
     "output_type": "display_data"
    }
   ],
   "source": [
    "# Second parameter is name of generated file\n",
    "# Third parameter is dpi\n",
    "with writer.saving(fig, 'cos turns into x squared.mp4', 300):\n",
    "\n",
    "    \n",
    "    for A in np.arange(0, len(lookup), 1):\n",
    "        # Update the label that indicates current value\n",
    "        # Round value to exactly X decimal places (defined by .Xf)\n",
    "        at.txt.set_text(f'T = 2π / {\"{:.2f}\".format(lookup[A])}')\n",
    "        plt.draw()\n",
    "\n",
    "        # Calculate y values for this frame\n",
    "        ydata = func(xrange, lookup[A])\n",
    "\n",
    "        # Update the line\n",
    "        line1.set_data(xrange, ydata)\n",
    "\n",
    "        # Add frame to the video\n",
    "        writer.grab_frame()\n",
    "     \n",
    "    #hold on max                    \n",
    "    for i in np.arange(0, 72, 1):\n",
    "        writer.grab_frame()\n",
    "                        \n",
    "    for A in np.arange(len(lookup)-1, 0, -1):\n",
    "        # Update the label that indicates current value\n",
    "        # Round value to exactly X decimal places (defined by .Xf)\n",
    "        at.txt.set_text(f'T = 2π / {\"{:.2f}\".format(lookup[A])}')\n",
    "        plt.draw()\n",
    "\n",
    "        # Calculate y values for this frame\n",
    "        ydata = func(xrange, lookup[A])\n",
    "\n",
    "        # Update the line\n",
    "        line1.set_data(xrange, ydata)\n",
    "\n",
    "        # Add frame to the video\n",
    "        writer.grab_frame()\n",
    "    \n",
    "    #hold on min\n",
    "    for i in np.arange(0, 72, 1):\n",
    "        writer.grab_frame()  "
   ]
  }
 ],
 "metadata": {
  "kernelspec": {
   "display_name": "Python 3",
   "language": "python",
   "name": "python3"
  },
  "language_info": {
   "codemirror_mode": {
    "name": "ipython",
    "version": 3
   },
   "file_extension": ".py",
   "mimetype": "text/x-python",
   "name": "python",
   "nbconvert_exporter": "python",
   "pygments_lexer": "ipython3",
   "version": "3.7.3"
  }
 },
 "nbformat": 4,
 "nbformat_minor": 2
}
